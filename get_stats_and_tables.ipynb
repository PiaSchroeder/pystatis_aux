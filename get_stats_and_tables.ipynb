{
 "cells": [
  {
   "cell_type": "markdown",
   "metadata": {},
   "source": [
    "### Get all statistics and tables from GENESIS, RegioDB, ZensusDB"
   ]
  },
  {
   "cell_type": "code",
   "execution_count": 6,
   "metadata": {},
   "outputs": [],
   "source": [
    "import pandas as pd\n",
    "import requests\n",
    "from dotenv import dotenv_values, load_dotenv\n",
    "\n",
    "# Load credentials from .env file\n",
    "load_dotenv()  \n",
    "USERNAME_GENESIS, PASSWORD_GENESIS, USERNAME_ZENSUS, PASSWORD_ZENSUS, USERNAME_REGIO, PASSWORD_REGIO = dotenv_values().values()\n",
    "\n",
    "# Database endpoints\n",
    "BASE_URL_GENESIS = 'https://www-genesis.destatis.de/genesisWS/rest/2020/'\n",
    "BASE_URL_ZENSUS = 'https://ergebnisse2011.zensus2022.de/api/rest/2020/'\n",
    "BASE_URL_REGIO = 'https://www.regionalstatistik.de/genesisws/rest/2020/'\n"
   ]
  },
  {
   "cell_type": "code",
   "execution_count": 7,
   "metadata": {},
   "outputs": [],
   "source": [
    "def get_stats(username, pw, url, max_pagelength=2500):\n",
    "    \"\"\"Get list of statistics from database\n",
    "\n",
    "    Args: \n",
    "        username (str): Username for data base\n",
    "        pw (str): Password for data base\n",
    "        url (str): URL of database\n",
    "        max_pagelength (int): Maximum number of results to return (optional)\n",
    "\n",
    "    Returns:\n",
    "        stats_df (Data Frame): Pandas data frame holding list of statistics\n",
    "        stats_list (list): List of first numbers of EVAS as strings\n",
    "    \"\"\"\n",
    "\n",
    "    response = requests.get(url + 'catalogue/statistics', params={\n",
    "        'username': username,\n",
    "        'password': pw,\n",
    "        'selection': '*',\n",
    "        'searchcriterion': 'Code',\n",
    "        'pagelength': max_pagelength,\n",
    "        'language': 'de',\n",
    "    })\n",
    "    response.raise_for_status()\n",
    "    response.encoding = \"UTF-8\"\n",
    "\n",
    "    if response.json()[\"Status\"][\"Code\"] not in [0, 22, 104]:\n",
    "        print(response.text)\n",
    "        raise ValueError(\"The destatis code suggests that something went wrong. Please check!\")\n",
    "    \n",
    "    stats_df = pd.DataFrame(response.json()[\"List\"])\n",
    "\n",
    "    if len(stats_df) >= max_pagelength:\n",
    "        raise Warning(f\"Maximum page length has been reached for index {stat}. Please check!\")\n",
    "\n",
    "    stats_list = stats_df[\"Code\"].str[0].unique().tolist()\n",
    "\n",
    "    print(f\"Success! Found {len(stats_df)} statistics.\")\n",
    "\n",
    "    return stats_df, stats_list\n"
   ]
  },
  {
   "cell_type": "code",
   "execution_count": 8,
   "metadata": {},
   "outputs": [],
   "source": [
    "def get_tables(stats_list, username, pw, url, max_pagelength=2500):\n",
    "    \"\"\"Get list of tables from database\n",
    "\n",
    "    Args: \n",
    "        stats_list (list): list containing first numbers of statistics (EVAS) for which tables should be returned\n",
    "        username (str): Username for data base\n",
    "        pw (str): Password for data base\n",
    "        url (str): URL of database\n",
    "        max_pagelength (int): Maximum number of results to return (optional)\n",
    "\n",
    "    Returns:\n",
    "        tables (Data Frame): Pandas data frame holding list of tables\n",
    "    \"\"\"\n",
    "\n",
    "    tables = pd.DataFrame()\n",
    "\n",
    "    for stat in stats_list:\n",
    "\n",
    "        print(f\"Fetching tables for stats index: {stat}/{len(stats_list)} ...\\n\")\n",
    "\n",
    "        response = requests.get(url + 'catalogue/tables', params={\n",
    "        'username': username,\n",
    "        'password': pw,\n",
    "        'selection': stat + '*',\n",
    "        'area': 'all',\n",
    "        'pagelength': max_pagelength,\n",
    "        'language': 'de',\n",
    "        })\n",
    "        response.raise_for_status()\n",
    "        response.encoding = \"UTF-8\"\n",
    "\n",
    "        if response.json()[\"Status\"][\"Code\"] not in [0, 22, 104]:\n",
    "            print(response.text)\n",
    "            raise ValueError(\"The destatis code suggests that something went wrong. Please check!\")\n",
    "        \n",
    "        table_df = pd.DataFrame(response.json()[\"List\"])\n",
    "\n",
    "        if len(table_df) >= max_pagelength:\n",
    "            raise Warning(f\"Maximum page length has been reached for index {stat}. Please check!\")\n",
    "    \n",
    "        tables = pd.concat([tables, table_df], axis=0)\n",
    "\n",
    "    tables.reset_index(drop=True, inplace=True)\n",
    "    print(f\"Success! Found {len(tables)} tables.\")\n",
    "\n",
    "    return tables"
   ]
  },
  {
   "cell_type": "markdown",
   "metadata": {},
   "source": [
    "##### GENESIS"
   ]
  },
  {
   "cell_type": "code",
   "execution_count": 9,
   "metadata": {},
   "outputs": [
    {
     "name": "stdout",
     "output_type": "stream",
     "text": [
      "Success! Found 324 statistics.\n"
     ]
    }
   ],
   "source": [
    "# Get all statistics\n",
    "stats_df_genesis, stats_list_genesis = get_stats(USERNAME_GENESIS, PASSWORD_GENESIS, BASE_URL_GENESIS)\n",
    "stats_df_genesis.to_csv(\"data/genesis_statistics.csv\", index=False)"
   ]
  },
  {
   "cell_type": "code",
   "execution_count": 65,
   "metadata": {},
   "outputs": [
    {
     "name": "stdout",
     "output_type": "stream",
     "text": [
      "Fetching tables for stats index: 1/9 ...\n",
      "\n",
      "Fetching tables for stats index: 2/9 ...\n",
      "\n",
      "Fetching tables for stats index: 3/9 ...\n",
      "\n",
      "Fetching tables for stats index: 4/9 ...\n",
      "\n",
      "Fetching tables for stats index: 5/9 ...\n",
      "\n",
      "Fetching tables for stats index: 6/9 ...\n",
      "\n",
      "Fetching tables for stats index: 7/9 ...\n",
      "\n",
      "Fetching tables for stats index: 8/9 ...\n",
      "\n",
      "Fetching tables for stats index: 9/9 ...\n",
      "\n",
      "Success! Found 2689 tables.\n"
     ]
    }
   ],
   "source": [
    "# Get all tables\n",
    "table_df_genesis = get_tables(stats_list_genesis, USERNAME_GENESIS, PASSWORD_GENESIS, BASE_URL_GENESIS)\n",
    "table_df_genesis.to_csv(\"data/genesis_tables.csv\", index=False)"
   ]
  },
  {
   "cell_type": "markdown",
   "metadata": {},
   "source": [
    "##### RegioDB"
   ]
  },
  {
   "cell_type": "code",
   "execution_count": 12,
   "metadata": {},
   "outputs": [
    {
     "name": "stdout",
     "output_type": "stream",
     "text": [
      "Success! Found 101 statistics.\n"
     ]
    }
   ],
   "source": [
    "# Get all statistics\n",
    "stats_df_regio, stats_list_regio = get_stats(USERNAME_REGIO, PASSWORD_REGIO, BASE_URL_REGIO)\n",
    "stats_df_regio.to_csv(\"data/regioDB_statistics.csv\", index=False)"
   ]
  },
  {
   "cell_type": "code",
   "execution_count": 13,
   "metadata": {},
   "outputs": [
    {
     "name": "stdout",
     "output_type": "stream",
     "text": [
      "Fetching tables for stats index: 1/9 ...\n",
      "\n",
      "Fetching tables for stats index: 2/9 ...\n",
      "\n",
      "Fetching tables for stats index: 3/9 ...\n",
      "\n",
      "Fetching tables for stats index: 4/9 ...\n",
      "\n",
      "Fetching tables for stats index: 5/9 ...\n",
      "\n",
      "Fetching tables for stats index: 6/9 ...\n",
      "\n",
      "Fetching tables for stats index: 7/9 ...\n",
      "\n",
      "Fetching tables for stats index: 8/9 ...\n",
      "\n",
      "Fetching tables for stats index: 9/9 ...\n",
      "\n",
      "Success! Found 709 tables.\n"
     ]
    }
   ],
   "source": [
    "# Get all tables\n",
    "table_df_regio = get_tables(stats_list_regio, USERNAME_REGIO, PASSWORD_REGIO, BASE_URL_REGIO)\n",
    "table_df_regio.to_csv(\"data/regioDB_tables.csv\", index=False)"
   ]
  },
  {
   "cell_type": "code",
   "execution_count": 22,
   "metadata": {},
   "outputs": [
    {
     "name": "stdout",
     "output_type": "stream",
     "text": [
      "Fetching tables for stats index: A/1 ...\n",
      "\n",
      "Success! Found 82 tables.\n",
      "\n",
      "Found 791 tables in total.\n"
     ]
    }
   ],
   "source": [
    "# RegioDB has a strange quirk where all tables relating to the \"Regionalatlas\" are assigned to the EVAS number\n",
    "# 99910 but the actual table numbers have a different format (e.g. AI-N-01 or AIG-03-2, they all start with A) \n",
    "# Add them here\n",
    "regionalatlas_df = get_tables([\"A\"], USERNAME_REGIO, PASSWORD_REGIO, BASE_URL_REGIO)\n",
    "table_df_regio = pd.concat([table_df_regio, regionalatlas_df], axis=0).reset_index(drop=True)\n",
    "table_df_regio.to_csv(\"data/regioDB_tables.csv\", index=False)\n",
    "\n",
    "print(f\"Found {len(table_df_regio)} tables in total.\")\n"
   ]
  },
  {
   "cell_type": "markdown",
   "metadata": {},
   "source": [
    "##### Zensus"
   ]
  },
  {
   "cell_type": "code",
   "execution_count": 31,
   "metadata": {},
   "outputs": [
    {
     "name": "stdout",
     "output_type": "stream",
     "text": [
      "Success! Found 6 statistics.\n"
     ]
    }
   ],
   "source": [
    "# Get all statistics\n",
    "stats_df_zensus, stats_list_zensus = get_stats(USERNAME_ZENSUS, PASSWORD_ZENSUS, BASE_URL_ZENSUS)\n",
    "stats_df_zensus.to_csv(\"data/zensusDB_statistics.csv\", index=False)"
   ]
  },
  {
   "cell_type": "code",
   "execution_count": 20,
   "metadata": {},
   "outputs": [
    {
     "name": "stdout",
     "output_type": "stream",
     "text": [
      "Fetching tables for stats index: 1/6 ...\n",
      "\n",
      "Fetching tables for stats index: 2/6 ...\n",
      "\n",
      "Fetching tables for stats index: 3/6 ...\n",
      "\n",
      "Fetching tables for stats index: 4/6 ...\n",
      "\n",
      "Fetching tables for stats index: 5/6 ...\n",
      "\n",
      "Fetching tables for stats index: 6/6 ...\n",
      "\n",
      "Success! Found 754 tables.\n"
     ]
    }
   ],
   "source": [
    "# Get all tables\n",
    "table_df_zensus = get_tables(stats_list_zensus, USERNAME_ZENSUS, PASSWORD_ZENSUS, BASE_URL_ZENSUS)\n",
    "table_df_zensus.to_csv(\"data/zensusDB_tables.csv\", index=False)"
   ]
  }
 ],
 "metadata": {
  "kernelspec": {
   "display_name": "pystatis",
   "language": "python",
   "name": "python3"
  },
  "language_info": {
   "codemirror_mode": {
    "name": "ipython",
    "version": 3
   },
   "file_extension": ".py",
   "mimetype": "text/x-python",
   "name": "python",
   "nbconvert_exporter": "python",
   "pygments_lexer": "ipython3",
   "version": "3.11.5"
  }
 },
 "nbformat": 4,
 "nbformat_minor": 2
}
