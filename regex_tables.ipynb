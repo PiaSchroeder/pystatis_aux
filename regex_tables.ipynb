{
 "cells": [
  {
   "cell_type": "markdown",
   "metadata": {},
   "source": [
    "### Check regex matches for table code formats in different databases"
   ]
  },
  {
   "cell_type": "code",
   "execution_count": 16,
   "metadata": {},
   "outputs": [],
   "source": [
    "import pandas as pd\n",
    "import warnings\n",
    "warnings.filterwarnings(\"ignore\", category=UserWarning)"
   ]
  },
  {
   "cell_type": "code",
   "execution_count": 28,
   "metadata": {},
   "outputs": [],
   "source": [
    "def check_match(table_df):\n",
    "\n",
    "    genesis_regex = \"^\\d{5}-\\d{4}$\"\n",
    "    regioDB_regex = \"(^\\d{5}-.{1,2}($|-.*$))|(^A.*$)\"\n",
    "    zensusDB_regex = \"^\\d{4}[A-Z]-\\d{4}$\"\n",
    "\n",
    "    # Check matches\n",
    "    n_match_genesis = len(table_df.loc[table_df[\"Code\"].astype(\"str\").str.contains(genesis_regex)])\n",
    "    n_match_regioDB = len(table_df.loc[table_df[\"Code\"].astype(\"str\").str.contains(regioDB_regex)])\n",
    "    n_match_zensusDB = len(table_df.loc[table_df[\"Code\"].astype(\"str\").str.contains(zensusDB_regex)])\n",
    "\n",
    "    print(f\"GENESIS RegEx matched {n_match_genesis} out of {len(table_df)} tables.\")\n",
    "    print(f\"RegioDB RegEx matched {n_match_regioDB} out of {len(table_df)} tables.\")\n",
    "    print(f\"ZensusDB RegEx matched {n_match_zensusDB} out of {len(table_df)} tables.\")\n",
    "    "
   ]
  },
  {
   "cell_type": "markdown",
   "metadata": {},
   "source": [
    "##### GENESIS"
   ]
  },
  {
   "cell_type": "code",
   "execution_count": 29,
   "metadata": {},
   "outputs": [
    {
     "name": "stdout",
     "output_type": "stream",
     "text": [
      "GENESIS RegEx matched 2689 out of 2689 tables.\n",
      "RegioDB RegEx matched 0 out of 2689 tables.\n",
      "ZensusDB RegEx matched 0 out of 2689 tables.\n"
     ]
    }
   ],
   "source": [
    "# Get tables\n",
    "genesis_df = pd.read_csv(\"data/genesis_tables.csv\")\n",
    "\n",
    "# Check matches\n",
    "check_match(genesis_df)"
   ]
  },
  {
   "cell_type": "markdown",
   "metadata": {},
   "source": [
    "##### RegioDB"
   ]
  },
  {
   "cell_type": "code",
   "execution_count": 30,
   "metadata": {},
   "outputs": [
    {
     "name": "stdout",
     "output_type": "stream",
     "text": [
      "GENESIS RegEx matched 0 out of 791 tables.\n",
      "RegioDB RegEx matched 791 out of 791 tables.\n",
      "ZensusDB RegEx matched 0 out of 791 tables.\n"
     ]
    }
   ],
   "source": [
    "# Get tables\n",
    "regio_df = pd.read_csv(\"data/regioDB_tables.csv\")\n",
    "\n",
    "# Check matches\n",
    "check_match(regio_df)"
   ]
  },
  {
   "cell_type": "markdown",
   "metadata": {},
   "source": [
    "##### Zensus"
   ]
  },
  {
   "cell_type": "code",
   "execution_count": 31,
   "metadata": {},
   "outputs": [
    {
     "name": "stdout",
     "output_type": "stream",
     "text": [
      "GENESIS RegEx matched 0 out of 754 tables.\n",
      "RegioDB RegEx matched 0 out of 754 tables.\n",
      "ZensusDB RegEx matched 754 out of 754 tables.\n"
     ]
    }
   ],
   "source": [
    "# Get tables\n",
    "zensus_df = pd.read_csv(\"data/zensusDB_tables.csv\")\n",
    "\n",
    "# Check matches\n",
    "check_match(zensus_df)"
   ]
  }
 ],
 "metadata": {
  "kernelspec": {
   "display_name": "pystatis",
   "language": "python",
   "name": "python3"
  },
  "language_info": {
   "codemirror_mode": {
    "name": "ipython",
    "version": 3
   },
   "file_extension": ".py",
   "mimetype": "text/x-python",
   "name": "python",
   "nbconvert_exporter": "python",
   "pygments_lexer": "ipython3",
   "version": "3.11.5"
  }
 },
 "nbformat": 4,
 "nbformat_minor": 2
}
